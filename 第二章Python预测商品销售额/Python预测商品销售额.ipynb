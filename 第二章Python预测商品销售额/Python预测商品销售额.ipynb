{
 "cells": [
  {
   "cell_type": "code",
   "execution_count": null,
   "id": "955fe97d",
   "metadata": {},
   "outputs": [],
   "source": [
    "import numpy as np\n",
    "import pandas as pd\n",
    "from sqlalchemy import create_engine\n",
    "import os"
   ]
  },
  {
   "cell_type": "markdown",
   "id": "0db3ebf0",
   "metadata": {},
   "source": [
    "### 获取数据"
   ]
  },
  {
   "cell_type": "code",
   "execution_count": null,
   "id": "0ea9e4e3",
   "metadata": {},
   "outputs": [],
   "source": [
    "# 数据库地址：数据库放在上一级目录下\n",
    "db_path = os.path.join(os.path.dirname(os.getcwd()),\"data.db\")\n",
    "engine_path = \"sqlite:///\"+db_path"
   ]
  },
  {
   "cell_type": "code",
   "execution_count": null,
   "id": "b482796f",
   "metadata": {},
   "outputs": [],
   "source": [
    "# 获取数据函数，根据输入的SQL语句返回 DataFrame 类型数据\n",
    "def link_sqlite(sql):\n",
    "    engine = create_engine(engine_path)\n",
    "    df = pd.read_sql(sql,con=engine)\n",
    "    return df"
   ]
  },
  {
   "cell_type": "markdown",
   "id": "e33127ac",
   "metadata": {},
   "source": [
    "### 线性数据"
   ]
  },
  {
   "cell_type": "code",
   "execution_count": null,
   "id": "7d8a7c0c",
   "metadata": {},
   "outputs": [],
   "source": [
    "sql = \"select * from predictSalesSummary where shopid=1\"\n",
    "df = link_sqlite(sql)"
   ]
  },
  {
   "cell_type": "code",
   "execution_count": null,
   "id": "e0bb7ab5",
   "metadata": {},
   "outputs": [],
   "source": [
    "df.tail()"
   ]
  },
  {
   "cell_type": "code",
   "execution_count": null,
   "id": "8a91571d",
   "metadata": {},
   "outputs": [],
   "source": [
    "from pyecharts import options as opts\n",
    "from pyecharts.charts import Bar\n",
    "\n",
    "x_names = df[\"month\"].tolist()\n",
    "tao_bao = df[\"amount\"].tolist()\n",
    "\n",
    "c = (\n",
    "    Bar()\n",
    "    .add_xaxis(x_names)\n",
    "    .add_yaxis(\"销售额\", tao_bao)\n",
    "    .set_global_opts(\n",
    "        xaxis_opts=opts.AxisOpts(axislabel_opts=opts.LabelOpts(rotate=20)),\n",
    "        title_opts=opts.TitleOpts(title=\"商品每个月销售额\"),\n",
    "    )\n",
    ")\n",
    "c.render_notebook()"
   ]
  },
  {
   "cell_type": "code",
   "execution_count": null,
   "id": "a7de866f",
   "metadata": {},
   "outputs": [],
   "source": [
    "# 从2021年2月份开始，数据呈现上升的线性趋势\n",
    "df2 = df.iloc[3:,:]"
   ]
  },
  {
   "cell_type": "code",
   "execution_count": null,
   "id": "b3ff9e5b",
   "metadata": {},
   "outputs": [],
   "source": [
    "# 数据复制一份，避免操作失误导致数据受损\n",
    "df3 = df2.copy()"
   ]
  },
  {
   "cell_type": "code",
   "execution_count": null,
   "id": "8ee13874",
   "metadata": {},
   "outputs": [],
   "source": [
    "df3[\"x\"] = list(range(2,11))"
   ]
  },
  {
   "cell_type": "code",
   "execution_count": null,
   "id": "fa1bd886",
   "metadata": {},
   "outputs": [],
   "source": [
    "df3"
   ]
  },
  {
   "cell_type": "code",
   "execution_count": null,
   "id": "ff4857c7",
   "metadata": {},
   "outputs": [],
   "source": [
    "from sklearn import linear_model\n",
    "from sklearn.metrics import mean_squared_error,r2_score"
   ]
  },
  {
   "cell_type": "code",
   "execution_count": null,
   "id": "f753f51f",
   "metadata": {},
   "outputs": [],
   "source": [
    "x = df3[\"x\"].values.tolist()\n",
    "y = df3[\"amount\"].values.tolist()\n",
    "\n",
    "x_reshape = np.array(x).reshape(-1,1)\n",
    "\n",
    "# x_reshape\n",
    "\n",
    "lr = linear_model.LinearRegression()\n",
    "\n",
    "lr.fit(x_reshape,y)\n",
    "\n",
    "x_predict = np.array([11]).reshape(-1,1)\n",
    "\n",
    "lr.predict(x_predict)"
   ]
  },
  {
   "cell_type": "markdown",
   "id": "3a4d2976",
   "metadata": {},
   "source": [
    "### 非线性数据"
   ]
  },
  {
   "cell_type": "code",
   "execution_count": null,
   "id": "8f5403d6",
   "metadata": {},
   "outputs": [],
   "source": [
    "shop_2_sql = \"select * from predictSalesSummary where shopid=2\"\n",
    "shop_2_df = link_sqlite(shop_2_sql)"
   ]
  },
  {
   "cell_type": "code",
   "execution_count": null,
   "id": "054ae975",
   "metadata": {},
   "outputs": [],
   "source": [
    "shop_2_df"
   ]
  },
  {
   "cell_type": "code",
   "execution_count": null,
   "id": "4851391c",
   "metadata": {},
   "outputs": [],
   "source": [
    "from pyecharts import options as opts\n",
    "from pyecharts.charts import Bar\n",
    "\n",
    "x_names = shop_2_df[\"month\"].tolist()\n",
    "tao_bao = shop_2_df[\"amount\"].tolist()\n",
    "\n",
    "c = (\n",
    "    Bar()\n",
    "    .add_xaxis(x_names)\n",
    "    .add_yaxis(\"销售额\", tao_bao)\n",
    "    .set_global_opts(\n",
    "        xaxis_opts=opts.AxisOpts(axislabel_opts=opts.LabelOpts(rotate=20)),\n",
    "        title_opts=opts.TitleOpts(title=\"商品每个月销售额\"),\n",
    "    )\n",
    ")\n",
    "c.render_notebook()"
   ]
  },
  {
   "cell_type": "markdown",
   "id": "895a4cf4",
   "metadata": {},
   "source": [
    "商品2的销售额，在最近5个月内变化幅度不大，可以用加权平均值的方法预测下个月销售额"
   ]
  },
  {
   "cell_type": "code",
   "execution_count": null,
   "id": "6c0c32c0",
   "metadata": {},
   "outputs": [],
   "source": [
    "np.sum(shop_2_df.iloc[4:,1]*np.array([0.2,0.2,0.6]))"
   ]
  },
  {
   "cell_type": "code",
   "execution_count": null,
   "id": "eaac9b45",
   "metadata": {},
   "outputs": [],
   "source": [
    "shop_2_df.iloc[4:,1].mean()"
   ]
  },
  {
   "cell_type": "code",
   "execution_count": null,
   "id": "20f77ce2",
   "metadata": {},
   "outputs": [],
   "source": []
  }
 ],
 "metadata": {
  "kernelspec": {
   "display_name": "Python 3",
   "language": "python",
   "name": "python3"
  },
  "language_info": {
   "codemirror_mode": {
    "name": "ipython",
    "version": 3
   },
   "file_extension": ".py",
   "mimetype": "text/x-python",
   "name": "python",
   "nbconvert_exporter": "python",
   "pygments_lexer": "ipython3",
   "version": "3.8.8"
  },
  "toc": {
   "base_numbering": 1,
   "nav_menu": {},
   "number_sections": true,
   "sideBar": true,
   "skip_h1_title": false,
   "title_cell": "Table of Contents",
   "title_sidebar": "Contents",
   "toc_cell": false,
   "toc_position": {},
   "toc_section_display": true,
   "toc_window_display": true
  }
 },
 "nbformat": 4,
 "nbformat_minor": 5
}
