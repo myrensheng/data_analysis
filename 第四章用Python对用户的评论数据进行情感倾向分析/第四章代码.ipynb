{
 "cells": [
  {
   "cell_type": "code",
   "execution_count": 5,
   "id": "8e08d5a5",
   "metadata": {},
   "outputs": [],
   "source": [
    "import os\n",
    "import pandas as pd\n",
    "import numpy as np\n",
    "from sqlalchemy import create_engine"
   ]
  },
  {
   "cell_type": "code",
   "execution_count": 6,
   "id": "1b497be5",
   "metadata": {},
   "outputs": [],
   "source": [
    "# 数据库地址：数据库放在上一级目录下\n",
    "db_path = os.path.join(os.path.dirname(os.getcwd()), \"data.db\")\n",
    "engine_path = \"sqlite:///\" + db_path\n",
    "# 创建数据库引擎\n",
    "engine = create_engine(engine_path)"
   ]
  },
  {
   "cell_type": "markdown",
   "id": "0c8ac4f3",
   "metadata": {},
   "source": [
    "### 获取数据"
   ]
  },
  {
   "cell_type": "markdown",
   "id": "c2640f24",
   "metadata": {},
   "source": [
    ">user_id：用户id\n",
    ">\n",
    ">username：用户名\n",
    ">\n",
    ">age：年龄\n",
    ">\n",
    ">content：评论内容\n",
    ">\n",
    ">sentiment_value：情感值【0消极，1积极，-1未知】（用飞浆重写训练得到情感值）\n",
    ">\n",
    ">create_time：评论时间\n",
    ">\n",
    ">subject：评论主题"
   ]
  },
  {
   "cell_type": "code",
   "execution_count": 18,
   "id": "ea80e06d",
   "metadata": {},
   "outputs": [],
   "source": [
    "sql = \"\"\"\n",
    "select \n",
    "a.user_id\n",
    ",a.username\n",
    ",a.age\n",
    ",b.content\n",
    "--,b.sentiment_value\n",
    ",b.create_time\n",
    ",b.subject\n",
    "from\n",
    "users as a\n",
    "left join\n",
    "comment as b\n",
    "on a.user_id=b.user_id\n",
    "\"\"\"\n",
    "\n",
    "df = pd.read_sql(sql, engine)"
   ]
  },
  {
   "cell_type": "code",
   "execution_count": 33,
   "id": "c8a7905e",
   "metadata": {},
   "outputs": [
    {
     "data": {
      "text/html": [
       "<div>\n",
       "<style scoped>\n",
       "    .dataframe tbody tr th:only-of-type {\n",
       "        vertical-align: middle;\n",
       "    }\n",
       "\n",
       "    .dataframe tbody tr th {\n",
       "        vertical-align: top;\n",
       "    }\n",
       "\n",
       "    .dataframe thead th {\n",
       "        text-align: right;\n",
       "    }\n",
       "</style>\n",
       "<table border=\"1\" class=\"dataframe\">\n",
       "  <thead>\n",
       "    <tr style=\"text-align: right;\">\n",
       "      <th></th>\n",
       "      <th>user_id</th>\n",
       "      <th>username</th>\n",
       "      <th>age</th>\n",
       "      <th>content</th>\n",
       "      <th>sentiment_value</th>\n",
       "      <th>create_time</th>\n",
       "      <th>subject</th>\n",
       "    </tr>\n",
       "  </thead>\n",
       "  <tbody>\n",
       "    <tr>\n",
       "      <th>3779</th>\n",
       "      <td>3780</td>\n",
       "      <td>ruuYYz</td>\n",
       "      <td>45</td>\n",
       "      <td>这不比博人传还燃吗？</td>\n",
       "      <td>0</td>\n",
       "      <td>2021-04-27 00:00:00.000000</td>\n",
       "      <td>其他</td>\n",
       "    </tr>\n",
       "    <tr>\n",
       "      <th>6196</th>\n",
       "      <td>6197</td>\n",
       "      <td>RqAKIq</td>\n",
       "      <td>25</td>\n",
       "      <td>强烈关注，已经有QUTEST 听小编制与流行，打算弄个 nuwave 专听大编制与金属</td>\n",
       "      <td>1</td>\n",
       "      <td>2021-08-30 00:00:00.000000</td>\n",
       "      <td>音质</td>\n",
       "    </tr>\n",
       "    <tr>\n",
       "      <th>6823</th>\n",
       "      <td>6824</td>\n",
       "      <td>r6ToDL</td>\n",
       "      <td>44</td>\n",
       "      <td>音染也是HIFI的一种？</td>\n",
       "      <td>-1</td>\n",
       "      <td>2021-04-05 00:00:00.000000</td>\n",
       "      <td>音质</td>\n",
       "    </tr>\n",
       "    <tr>\n",
       "      <th>7465</th>\n",
       "      <td>7466</td>\n",
       "      <td>BczQLZ</td>\n",
       "      <td>30</td>\n",
       "      <td>感觉随身胆放挺危险，不知道电压多高？</td>\n",
       "      <td>0</td>\n",
       "      <td>2021-08-05 00:00:00.000000</td>\n",
       "      <td>配置</td>\n",
       "    </tr>\n",
       "    <tr>\n",
       "      <th>2014</th>\n",
       "      <td>2015</td>\n",
       "      <td>61Ebq1</td>\n",
       "      <td>36</td>\n",
       "      <td>固定钢圈还能调整？  ath不是一直不能调吗</td>\n",
       "      <td>0</td>\n",
       "      <td>2021-09-26 00:00:00.000000</td>\n",
       "      <td>其他</td>\n",
       "    </tr>\n",
       "  </tbody>\n",
       "</table>\n",
       "</div>"
      ],
      "text/plain": [
       "      user_id username  age                                      content  \\\n",
       "3779     3780   ruuYYz   45                                   这不比博人传还燃吗？   \n",
       "6196     6197   RqAKIq   25  强烈关注，已经有QUTEST 听小编制与流行，打算弄个 nuwave 专听大编制与金属   \n",
       "6823     6824   r6ToDL   44                                 音染也是HIFI的一种？   \n",
       "7465     7466   BczQLZ   30                           感觉随身胆放挺危险，不知道电压多高？   \n",
       "2014     2015   61Ebq1   36                       固定钢圈还能调整？  ath不是一直不能调吗   \n",
       "\n",
       "      sentiment_value                 create_time subject  \n",
       "3779                0  2021-04-27 00:00:00.000000      其他  \n",
       "6196                1  2021-08-30 00:00:00.000000      音质  \n",
       "6823               -1  2021-04-05 00:00:00.000000      音质  \n",
       "7465                0  2021-08-05 00:00:00.000000      配置  \n",
       "2014                0  2021-09-26 00:00:00.000000      其他  "
      ]
     },
     "execution_count": 33,
     "metadata": {},
     "output_type": "execute_result"
    }
   ],
   "source": [
    "df.sample(5)"
   ]
  },
  {
   "cell_type": "markdown",
   "id": "d9250cf3",
   "metadata": {},
   "source": [
    "### 用飞浆添加情感分析结果"
   ]
  },
  {
   "cell_type": "markdown",
   "id": "7db63abd",
   "metadata": {},
   "source": [
    ">**一、window10+anaconda3的安装命令：**\n",
    ">\n",
    ">conda install paddlepaddle==2.2.1 --channel https://mirrors.tuna.tsinghua.edu.cn/anaconda/cloud/Paddle/\n",
    ">\n",
    ">其他安装飞浆命令：[官网地址](https://www.paddlepaddle.org.cn/install/quick?docurl=/documentation/docs/zh/install/conda/windows-conda.html)\n",
    "> \n",
    ">**二、安装预训练模型应用工具 PaddleHub**\n",
    ">\n",
    ">pip install paddlehub==2.0.0\n",
    ">\n",
    ">飞浆模型库地址：[官网地址](https://www.paddlepaddle.org.cn/hublist)\n",
    ">\n",
    ">飞浆情感分析模型介绍：[官网地址](https://www.paddlepaddle.org.cn/hubdetail?name=senta_bilstm&en_category=SentimentAnalysis)"
   ]
  },
  {
   "cell_type": "code",
   "execution_count": 50,
   "id": "e647e07e",
   "metadata": {},
   "outputs": [
    {
     "name": "stderr",
     "output_type": "stream",
     "text": [
      "\u001b[33m[2022-01-12 17:49:37,431] [ WARNING]\u001b[0m - The _initialize method in HubModule will soon be deprecated, you can use the __init__() to handle the initialization of the object\u001b[0m\n",
      "\u001b[33m[2022-01-12 17:49:39,810] [ WARNING]\u001b[0m - The _initialize method in HubModule will soon be deprecated, you can use the __init__() to handle the initialization of the object\u001b[0m\n"
     ]
    }
   ],
   "source": [
    "import paddlehub as hub\n",
    "\n",
    "# 加载模型\n",
    "senta = hub.Module(name=\"senta_bilstm\")\n",
    "\n",
    "# 评论数据列表\n",
    "test_text = df[\"content\"].tolist()\n",
    "# 模型返回的结果\n",
    "results = senta.sentiment_classify(texts=test_text, use_gpu=False, batch_size=1)\n"
   ]
  },
  {
   "cell_type": "code",
   "execution_count": 51,
   "id": "8dc92112",
   "metadata": {},
   "outputs": [],
   "source": [
    "# 将返回的结果转为 dataframe 数据，并拼接到原始数据中\n",
    "results_df = pd.DataFrame(results)\n",
    "\n",
    "df2 = pd.concat([df,results_df],axis=1)\n",
    "\n",
    "df2.sample(5)"
   ]
  },
  {
   "cell_type": "markdown",
   "id": "cb331fc2",
   "metadata": {},
   "source": [
    "### 数据清理"
   ]
  },
  {
   "cell_type": "code",
   "execution_count": 6,
   "id": "f4a13fe0",
   "metadata": {},
   "outputs": [
    {
     "data": {
      "text/plain": [
       "其他    7353\n",
       "配置    1384\n",
       "音质     597\n",
       "价格     427\n",
       "功能     102\n",
       "外形      95\n",
       "舒适      42\n",
       "Name: subject, dtype: int64"
      ]
     },
     "execution_count": 6,
     "metadata": {},
     "output_type": "execute_result"
    }
   ],
   "source": [
    "df2.subject.value_counts()"
   ]
  },
  {
   "cell_type": "code",
   "execution_count": 40,
   "id": "2451d431",
   "metadata": {},
   "outputs": [],
   "source": [
    "# 去除情感状态未知的数据\n",
    "df3 = df2[df2[\"sentiment_value\"].isin([0,1])]"
   ]
  },
  {
   "cell_type": "markdown",
   "id": "b371ad61",
   "metadata": {},
   "source": [
    "### 好评率"
   ]
  },
  {
   "cell_type": "code",
   "execution_count": 42,
   "id": "367279aa",
   "metadata": {},
   "outputs": [
    {
     "data": {
      "text/plain": [
       "0    73.83%\n",
       "1    26.17%\n",
       "Name: sentiment_value, dtype: object"
      ]
     },
     "execution_count": 42,
     "metadata": {},
     "output_type": "execute_result"
    }
   ],
   "source": [
    "(df3.sentiment_value.value_counts(normalize=True)).map(lambda x:\"{:.2%}\".format(x))"
   ]
  },
  {
   "cell_type": "code",
   "execution_count": null,
   "id": "4bd419eb",
   "metadata": {},
   "outputs": [],
   "source": []
  },
  {
   "cell_type": "code",
   "execution_count": null,
   "id": "033313e5",
   "metadata": {},
   "outputs": [],
   "source": []
  },
  {
   "cell_type": "code",
   "execution_count": null,
   "id": "bedcfb73",
   "metadata": {},
   "outputs": [],
   "source": []
  },
  {
   "cell_type": "code",
   "execution_count": null,
   "id": "37513953",
   "metadata": {},
   "outputs": [],
   "source": []
  },
  {
   "cell_type": "code",
   "execution_count": null,
   "id": "2fc70bfa",
   "metadata": {},
   "outputs": [],
   "source": []
  },
  {
   "cell_type": "code",
   "execution_count": null,
   "id": "93a6e20a",
   "metadata": {},
   "outputs": [],
   "source": []
  },
  {
   "cell_type": "code",
   "execution_count": null,
   "id": "77f901f1",
   "metadata": {},
   "outputs": [],
   "source": []
  },
  {
   "cell_type": "code",
   "execution_count": null,
   "id": "a3615ef1",
   "metadata": {},
   "outputs": [],
   "source": []
  },
  {
   "cell_type": "code",
   "execution_count": null,
   "id": "937a5eb8",
   "metadata": {},
   "outputs": [],
   "source": []
  },
  {
   "cell_type": "code",
   "execution_count": null,
   "id": "8a7ebf63",
   "metadata": {},
   "outputs": [],
   "source": []
  }
 ],
 "metadata": {
  "kernelspec": {
   "display_name": "Python 3",
   "language": "python",
   "name": "python3"
  },
  "language_info": {
   "codemirror_mode": {
    "name": "ipython",
    "version": 3
   },
   "file_extension": ".py",
   "mimetype": "text/x-python",
   "name": "python",
   "nbconvert_exporter": "python",
   "pygments_lexer": "ipython3",
   "version": "3.8.8"
  },
  "toc": {
   "base_numbering": 1,
   "nav_menu": {},
   "number_sections": true,
   "sideBar": true,
   "skip_h1_title": false,
   "title_cell": "Table of Contents",
   "title_sidebar": "Contents",
   "toc_cell": false,
   "toc_position": {},
   "toc_section_display": true,
   "toc_window_display": false
  }
 },
 "nbformat": 4,
 "nbformat_minor": 5
}
