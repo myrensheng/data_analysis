{
 "cells": [
  {
   "cell_type": "markdown",
   "id": "399a0b7c",
   "metadata": {},
   "source": [
    "该文件主要是为了生成需要的数据，并将数据保存到 data.db 中"
   ]
  },
  {
   "cell_type": "code",
   "execution_count": 58,
   "id": "a7fc6785",
   "metadata": {},
   "outputs": [],
   "source": [
    "import os\n",
    "import string\n",
    "import datetime\n",
    "import numpy as np\n",
    "import pandas as pd\n",
    "from sqlalchemy import create_engine"
   ]
  },
  {
   "cell_type": "code",
   "execution_count": 20,
   "id": "e4b0a1d8",
   "metadata": {},
   "outputs": [],
   "source": [
    "# 数据库地址：数据库放在上一级目录下\n",
    "db_path = os.path.join(os.path.dirname(os.getcwd()),\"data.db\")\n",
    "engine_path = \"sqlite:///\" + db_path\n",
    "# 创建数据库引擎\n",
    "engine = create_engine(engine_path)"
   ]
  },
  {
   "cell_type": "markdown",
   "id": "43986657",
   "metadata": {},
   "source": [
    "### 用户数据\n",
    "> 保存到数据库 users 表中"
   ]
  },
  {
   "cell_type": "code",
   "execution_count": 74,
   "id": "9d6ae89e",
   "metadata": {},
   "outputs": [],
   "source": [
    "name_str_list = [i for i in string.ascii_letters+string.digits]"
   ]
  },
  {
   "cell_type": "code",
   "execution_count": 84,
   "id": "6bb488ea",
   "metadata": {},
   "outputs": [],
   "source": [
    "# 随机生成10000个用户的信息\n",
    "user_df = pd.DataFrame(data={\n",
    "    \"user_id\":range(1,10001),\n",
    "    \"username\":[\"\".join(np.random.choice(name_str_list,6)) for _ in range(10000)],\n",
    "    \"age\":np.random.choice(range(20,50),10000),\n",
    "})"
   ]
  },
  {
   "cell_type": "code",
   "execution_count": 85,
   "id": "d6a33817",
   "metadata": {},
   "outputs": [
    {
     "data": {
      "text/html": [
       "<div>\n",
       "<style scoped>\n",
       "    .dataframe tbody tr th:only-of-type {\n",
       "        vertical-align: middle;\n",
       "    }\n",
       "\n",
       "    .dataframe tbody tr th {\n",
       "        vertical-align: top;\n",
       "    }\n",
       "\n",
       "    .dataframe thead th {\n",
       "        text-align: right;\n",
       "    }\n",
       "</style>\n",
       "<table border=\"1\" class=\"dataframe\">\n",
       "  <thead>\n",
       "    <tr style=\"text-align: right;\">\n",
       "      <th></th>\n",
       "      <th>user_id</th>\n",
       "      <th>username</th>\n",
       "      <th>age</th>\n",
       "    </tr>\n",
       "  </thead>\n",
       "  <tbody>\n",
       "    <tr>\n",
       "      <th>7468</th>\n",
       "      <td>7469</td>\n",
       "      <td>mQ2qGm</td>\n",
       "      <td>37</td>\n",
       "    </tr>\n",
       "    <tr>\n",
       "      <th>234</th>\n",
       "      <td>235</td>\n",
       "      <td>HkIhIx</td>\n",
       "      <td>35</td>\n",
       "    </tr>\n",
       "  </tbody>\n",
       "</table>\n",
       "</div>"
      ],
      "text/plain": [
       "      user_id username  age\n",
       "7468     7469   mQ2qGm   37\n",
       "234       235   HkIhIx   35"
      ]
     },
     "execution_count": 85,
     "metadata": {},
     "output_type": "execute_result"
    }
   ],
   "source": [
    "user_df.sample(2)"
   ]
  },
  {
   "cell_type": "code",
   "execution_count": 86,
   "id": "daf5f7a6",
   "metadata": {},
   "outputs": [],
   "source": [
    "user_df.to_sql(\"users\", engine, if_exists='replace', index=False)"
   ]
  },
  {
   "cell_type": "code",
   "execution_count": null,
   "id": "211c481b",
   "metadata": {},
   "outputs": [],
   "source": []
  },
  {
   "cell_type": "markdown",
   "id": "1f7ca370",
   "metadata": {},
   "source": [
    "### 商品评价数据\n",
    "> 商品评论数据来自 [阿里云天池比赛](https://tianchi.aliyun.com/competition/entrance/531890/introduction)\n",
    ">\n",
    "> 数据保存到数据库 comment 表中"
   ]
  },
  {
   "cell_type": "code",
   "execution_count": 87,
   "id": "6c824211",
   "metadata": {},
   "outputs": [],
   "source": [
    "comment_df = pd.read_csv(\"./earphone_sentiment.csv\")"
   ]
  },
  {
   "cell_type": "code",
   "execution_count": 88,
   "id": "4c39870b",
   "metadata": {},
   "outputs": [
    {
     "data": {
      "text/html": [
       "<div>\n",
       "<style scoped>\n",
       "    .dataframe tbody tr th:only-of-type {\n",
       "        vertical-align: middle;\n",
       "    }\n",
       "\n",
       "    .dataframe tbody tr th {\n",
       "        vertical-align: top;\n",
       "    }\n",
       "\n",
       "    .dataframe thead th {\n",
       "        text-align: right;\n",
       "    }\n",
       "</style>\n",
       "<table border=\"1\" class=\"dataframe\">\n",
       "  <thead>\n",
       "    <tr style=\"text-align: right;\">\n",
       "      <th></th>\n",
       "      <th>content_id</th>\n",
       "      <th>content</th>\n",
       "      <th>subject</th>\n",
       "      <th>sentiment_word</th>\n",
       "      <th>sentiment_value</th>\n",
       "    </tr>\n",
       "  </thead>\n",
       "  <tbody>\n",
       "    <tr>\n",
       "      <th>14255</th>\n",
       "      <td>14284</td>\n",
       "      <td>说句冒犯的话，怎么感觉是在狂吹，然后找下家出货</td>\n",
       "      <td>其他</td>\n",
       "      <td>NaN</td>\n",
       "      <td>0</td>\n",
       "    </tr>\n",
       "    <tr>\n",
       "      <th>174</th>\n",
       "      <td>180</td>\n",
       "      <td>到家翻出吃灰已久的240DF，细细听来还是真是不错。以前觉得不出彩似乎是我的音量开得太保守了。</td>\n",
       "      <td>其他</td>\n",
       "      <td>不错</td>\n",
       "      <td>1</td>\n",
       "    </tr>\n",
       "  </tbody>\n",
       "</table>\n",
       "</div>"
      ],
      "text/plain": [
       "       content_id                                          content subject  \\\n",
       "14255       14284                          说句冒犯的话，怎么感觉是在狂吹，然后找下家出货      其他   \n",
       "174           180  到家翻出吃灰已久的240DF，细细听来还是真是不错。以前觉得不出彩似乎是我的音量开得太保守了。      其他   \n",
       "\n",
       "      sentiment_word  sentiment_value  \n",
       "14255            NaN                0  \n",
       "174               不错                1  "
      ]
     },
     "execution_count": 88,
     "metadata": {},
     "output_type": "execute_result"
    }
   ],
   "source": [
    "comment_df.sample(2)"
   ]
  },
  {
   "cell_type": "code",
   "execution_count": 89,
   "id": "a949d2bc",
   "metadata": {},
   "outputs": [
    {
     "data": {
      "text/plain": [
       "(17176, 5)"
      ]
     },
     "execution_count": 89,
     "metadata": {},
     "output_type": "execute_result"
    }
   ],
   "source": [
    "comment_df.shape"
   ]
  },
  {
   "cell_type": "code",
   "execution_count": 91,
   "id": "2fbf847e",
   "metadata": {},
   "outputs": [],
   "source": [
    "# 添加创建时间\n",
    "index = pd.date_range(\"2021-01-01\", \"2021-12-31\")\n",
    "\n",
    "# 随机选择 17176 条时间\n",
    "comment_df[\"create_time\"] = np.random.choice(a=index,size=17176)\n",
    "\n",
    "# 添加用户id\n",
    "comment_df[\"user_id\"] = range(1,len(comment_df)+1)"
   ]
  },
  {
   "cell_type": "code",
   "execution_count": 92,
   "id": "5a47df1e",
   "metadata": {},
   "outputs": [
    {
     "data": {
      "text/html": [
       "<div>\n",
       "<style scoped>\n",
       "    .dataframe tbody tr th:only-of-type {\n",
       "        vertical-align: middle;\n",
       "    }\n",
       "\n",
       "    .dataframe tbody tr th {\n",
       "        vertical-align: top;\n",
       "    }\n",
       "\n",
       "    .dataframe thead th {\n",
       "        text-align: right;\n",
       "    }\n",
       "</style>\n",
       "<table border=\"1\" class=\"dataframe\">\n",
       "  <thead>\n",
       "    <tr style=\"text-align: right;\">\n",
       "      <th></th>\n",
       "      <th>content_id</th>\n",
       "      <th>content</th>\n",
       "      <th>subject</th>\n",
       "      <th>sentiment_word</th>\n",
       "      <th>sentiment_value</th>\n",
       "      <th>create_time</th>\n",
       "      <th>user_id</th>\n",
       "    </tr>\n",
       "  </thead>\n",
       "  <tbody>\n",
       "    <tr>\n",
       "      <th>0</th>\n",
       "      <td>0</td>\n",
       "      <td>Silent Angel期待您的光临，共赏美好的声音！</td>\n",
       "      <td>其他</td>\n",
       "      <td>好</td>\n",
       "      <td>1</td>\n",
       "      <td>2021-10-14</td>\n",
       "      <td>1</td>\n",
       "    </tr>\n",
       "    <tr>\n",
       "      <th>1</th>\n",
       "      <td>2</td>\n",
       "      <td>这只HD650在1k的失真左声道是右声道的6倍左右，也超出官方规格参数范围（0.05%），看...</td>\n",
       "      <td>其他</td>\n",
       "      <td>NaN</td>\n",
       "      <td>0</td>\n",
       "      <td>2021-07-16</td>\n",
       "      <td>2</td>\n",
       "    </tr>\n",
       "  </tbody>\n",
       "</table>\n",
       "</div>"
      ],
      "text/plain": [
       "   content_id                                            content subject  \\\n",
       "0           0                        Silent Angel期待您的光临，共赏美好的声音！      其他   \n",
       "1           2  这只HD650在1k的失真左声道是右声道的6倍左右，也超出官方规格参数范围（0.05%），看...      其他   \n",
       "\n",
       "  sentiment_word  sentiment_value create_time  user_id  \n",
       "0              好                1  2021-10-14        1  \n",
       "1            NaN                0  2021-07-16        2  "
      ]
     },
     "execution_count": 92,
     "metadata": {},
     "output_type": "execute_result"
    }
   ],
   "source": [
    "comment_df.head(2)"
   ]
  },
  {
   "cell_type": "code",
   "execution_count": 93,
   "id": "d16db7cc",
   "metadata": {},
   "outputs": [],
   "source": [
    "comment_df.to_sql(\"comment\", engine, if_exists='replace', index=False)"
   ]
  },
  {
   "cell_type": "code",
   "execution_count": null,
   "id": "0bee7d0d",
   "metadata": {},
   "outputs": [],
   "source": []
  },
  {
   "cell_type": "markdown",
   "id": "5a810391",
   "metadata": {},
   "source": [
    "### 观研报告网数据\n",
    "> 观研报告网：http://data.chinabaogao.com/ \n",
    ">\n",
    "> read_html() 官网地址：[点击跳转](https://pandas.pydata.org/docs/reference/api/pandas.read_html.html?highlight=read_html)\n",
    ">\n",
    "> 网页中有表格元素（tbody）均可以下载  \n"
   ]
  },
  {
   "cell_type": "code",
   "execution_count": 9,
   "id": "e1de61f2",
   "metadata": {},
   "outputs": [],
   "source": [
    "# 举例说明，该 url 下有两个表格\n",
    "# 其他页面数据，只需修改该 url \n",
    "url = \"http://data.chinabaogao.com/dianxin/2021/11305620U2021.html\"\n",
    "\n",
    "result = pd.read_html(io=url,header=0)\n",
    "\n",
    "for d in result:\n",
    "    display(d)"
   ]
  },
  {
   "cell_type": "code",
   "execution_count": null,
   "id": "51e04199",
   "metadata": {},
   "outputs": [],
   "source": []
  },
  {
   "cell_type": "code",
   "execution_count": null,
   "id": "28a7d403",
   "metadata": {},
   "outputs": [],
   "source": []
  },
  {
   "cell_type": "code",
   "execution_count": null,
   "id": "85f8ba73",
   "metadata": {},
   "outputs": [],
   "source": []
  }
 ],
 "metadata": {
  "kernelspec": {
   "display_name": "Python 3",
   "language": "python",
   "name": "python3"
  },
  "language_info": {
   "codemirror_mode": {
    "name": "ipython",
    "version": 3
   },
   "file_extension": ".py",
   "mimetype": "text/x-python",
   "name": "python",
   "nbconvert_exporter": "python",
   "pygments_lexer": "ipython3",
   "version": "3.8.8"
  },
  "toc": {
   "base_numbering": 1,
   "nav_menu": {},
   "number_sections": true,
   "sideBar": true,
   "skip_h1_title": false,
   "title_cell": "Table of Contents",
   "title_sidebar": "Contents",
   "toc_cell": false,
   "toc_position": {},
   "toc_section_display": true,
   "toc_window_display": true
  }
 },
 "nbformat": 4,
 "nbformat_minor": 5
}
