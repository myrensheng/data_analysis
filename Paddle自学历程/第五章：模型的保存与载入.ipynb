{
 "cells": [
  {
   "cell_type": "markdown",
   "id": "1020eef2",
   "metadata": {},
   "source": [
    "### 保存载入体系介绍"
   ]
  },
  {
   "cell_type": "markdown",
   "id": "42ce4c62",
   "metadata": {},
   "source": [
    "#### 基础API保存载入体系"
   ]
  },
  {
   "cell_type": "markdown",
   "id": "28c70649",
   "metadata": {},
   "source": [
    ">训练场景：使用paddle.save/load\n",
    ">\n",
    ">推理部署：使用paddle.jie.save/load(动态图)；paddle.satic.save/load_inference_model\n",
    ">"
   ]
  },
  {
   "cell_type": "markdown",
   "id": "9b3218b3",
   "metadata": {},
   "source": [
    "#### 高层API保存载入体系"
   ]
  },
  {
   "cell_type": "markdown",
   "id": "19e3d604",
   "metadata": {},
   "source": [
    ">paddle.Model.fit(训练接口，同事带有保存参数功能)\n",
    ">\n",
    ">paddle.Model.save\n",
    ">\n",
    ">paddle.Model.load"
   ]
  },
  {
   "cell_type": "markdown",
   "id": "70de694d",
   "metadata": {},
   "source": [
    "### 训练调优场景的（模型、参数）保存与载入"
   ]
  },
  {
   "cell_type": "markdown",
   "id": "9d238a15",
   "metadata": {},
   "source": [
    ">训练阶段主要保存模型的参数，当模型的训练时间很长时，为了防止意外中断需要保存模型训练的参数\n",
    ">"
   ]
  },
  {
   "cell_type": "markdown",
   "id": "177e6196",
   "metadata": {},
   "source": [
    "#### 动态图参数保存载入"
   ]
  },
  {
   "cell_type": "markdown",
   "id": "166e21e3",
   "metadata": {},
   "source": [
    ">使用 paddle.save/load 结合Layer和Optimizer的state_dict达成目的，此处的state_dict是对象的持久化参数的载体，dict的key为参数名，value为参数真实值"
   ]
  },
  {
   "cell_type": "code",
   "execution_count": 1,
   "id": "8d5e7ba9",
   "metadata": {},
   "outputs": [],
   "source": [
    "import numpy as np\n",
    "import pandas as pd\n",
    "import paddle\n",
    "import paddle.nn as nn\n",
    "import paddle.optimizer as opt\n",
    "import warnings\n",
    "warnings.filterwarnings(\"ignore\")"
   ]
  },
  {
   "cell_type": "code",
   "execution_count": 2,
   "id": "3a6b0102",
   "metadata": {},
   "outputs": [],
   "source": [
    "BATCH_SIZE = 16\n",
    "BATCH_NUM = 4\n",
    "EPOCH_NUM = 4\n",
    "\n",
    "IMAGE_SIZE = 784\n",
    "CLASS_NUM = 10"
   ]
  },
  {
   "cell_type": "code",
   "execution_count": 3,
   "id": "1cffc7d5",
   "metadata": {},
   "outputs": [],
   "source": [
    "# 定义一个随机数据集 \n",
    "class RandomDateset(paddle.io.Dataset):\n",
    "    def __init__(self,num_samples):\n",
    "        self.num_samples = num_samples\n",
    "        \n",
    "    def __getitem__(self,idx):\n",
    "        image = np.random.random([IMAGE_SIZE]).astype('float32')\n",
    "        label = np.random.randint(0,CLASS_NUM-1,(1,)).astype('int64')\n",
    "        return image,label\n",
    "    \n",
    "    def __len__(self):\n",
    "        return self.num_samples"
   ]
  },
  {
   "cell_type": "code",
   "execution_count": 4,
   "id": "b8278a48",
   "metadata": {},
   "outputs": [],
   "source": [
    "# 子类组网\n",
    "class LinearNet(nn.Layer):\n",
    "    def __init__(self):\n",
    "        super(LinearNet,self).__init__()\n",
    "        self._linear = nn.Linear(IMAGE_SIZE,CLASS_NUM)\n",
    "        \n",
    "    def forward(self,x):\n",
    "        return self._linear(x)\n"
   ]
  },
  {
   "cell_type": "code",
   "execution_count": 8,
   "id": "fb127345",
   "metadata": {},
   "outputs": [],
   "source": [
    "# 定义训练函数\n",
    "def train(layer,loader,loass_fn,opt):\n",
    "    for epoch_id in range(EPOCH_NUM):\n",
    "        for batch_id,data in enumerate(loader()):\n",
    "            x = data[0]\n",
    "            y = data[1]\n",
    "            predicts = layer(x)\n",
    "            loss = loss_fn(predicts,y)\n",
    "            acc = paddle.metric.accuracy(predicts,y)\n",
    "            loss.backward()\n",
    "            opt.step()\n",
    "            opt.clear_grad()\n",
    "            print(f\"epoch_id:{epoch_id},batch_id:{batch_id},loss:{loss.numpy()},acc:{acc.numpy()}\")"
   ]
  },
  {
   "cell_type": "code",
   "execution_count": 9,
   "id": "f8c7aa42",
   "metadata": {},
   "outputs": [],
   "source": [
    "# 定义网络、损失函数，优化器，精确度\n",
    "layer = LinearNet()\n",
    "loss_fn = paddle.nn.CrossEntropyLoss()\n",
    "adam = paddle.optimizer.Adam(learning_rate=0.01,parameters=layer.parameters())\n",
    "# 创建数据加载器，开始训练\n",
    "dataset = RandomDateset(BATCH_NUM*BATCH_SIZE)\n",
    "loader = paddle.io.DataLoader(dataset,batch_size=BATCH_SIZE,shuffle=True,drop_last=True,num_workers=2)\n",
    "\n"
   ]
  },
  {
   "cell_type": "code",
   "execution_count": 10,
   "id": "a5b3d15b",
   "metadata": {},
   "outputs": [
    {
     "name": "stdout",
     "output_type": "stream",
     "text": [
      "epoch_id:0,batch_id:0,loss:[3.058033],acc:[0.0625]\n",
      "epoch_id:0,batch_id:1,loss:[6.3019342],acc:[0.125]\n",
      "epoch_id:0,batch_id:2,loss:[6.0211387],acc:[0.0625]\n",
      "epoch_id:0,batch_id:3,loss:[4.9375143],acc:[0.0625]\n",
      "epoch_id:1,batch_id:0,loss:[6.2604437],acc:[0.0625]\n",
      "epoch_id:1,batch_id:1,loss:[5.0825515],acc:[0.125]\n",
      "epoch_id:1,batch_id:2,loss:[3.6923733],acc:[0.125]\n",
      "epoch_id:1,batch_id:3,loss:[3.1607432],acc:[0.0625]\n",
      "epoch_id:2,batch_id:0,loss:[3.6203542],acc:[0.0625]\n",
      "epoch_id:2,batch_id:1,loss:[3.6932602],acc:[0.0625]\n",
      "epoch_id:2,batch_id:2,loss:[3.9843092],acc:[0.]\n",
      "epoch_id:2,batch_id:3,loss:[4.0350485],acc:[0.0625]\n",
      "epoch_id:3,batch_id:0,loss:[3.6471248],acc:[0.1875]\n",
      "epoch_id:3,batch_id:1,loss:[3.4326372],acc:[0.]\n",
      "epoch_id:3,batch_id:2,loss:[3.4537778],acc:[0.125]\n",
      "epoch_id:3,batch_id:3,loss:[3.7570505],acc:[0.125]\n"
     ]
    }
   ],
   "source": [
    "train(layer,loader,loss_fn,adam)"
   ]
  },
  {
   "cell_type": "code",
   "execution_count": 11,
   "id": "33f05c7c",
   "metadata": {},
   "outputs": [],
   "source": [
    "# 保存参数\n",
    "paddle.save(layer.state_dict(),\"linear_net.pdparams\")\n",
    "paddle.save(adam.state_dict(),\"adam.pdopt\")"
   ]
  },
  {
   "cell_type": "code",
   "execution_count": 12,
   "id": "0c06fe98",
   "metadata": {},
   "outputs": [],
   "source": [
    "# 载入参数\n",
    "layer_state_dict = paddle.load(\"linear_net.pdparams\")\n",
    "opt_state_dict = paddle.load(\"adam.pdopt\")"
   ]
  },
  {
   "cell_type": "code",
   "execution_count": 13,
   "id": "e92f8da6",
   "metadata": {},
   "outputs": [],
   "source": [
    "# 使用下面方法将参数更新到模型中\n",
    "layer.set_state_dict(layer_state_dict)\n",
    "adam.set_state_dict(opt_state_dict)"
   ]
  },
  {
   "cell_type": "code",
   "execution_count": null,
   "id": "cc7f322b",
   "metadata": {},
   "outputs": [],
   "source": []
  },
  {
   "cell_type": "code",
   "execution_count": null,
   "id": "572749f0",
   "metadata": {},
   "outputs": [],
   "source": []
  },
  {
   "cell_type": "code",
   "execution_count": null,
   "id": "2bfa3297",
   "metadata": {},
   "outputs": [],
   "source": []
  }
 ],
 "metadata": {
  "kernelspec": {
   "display_name": "Python 3",
   "language": "python",
   "name": "python3"
  },
  "language_info": {
   "codemirror_mode": {
    "name": "ipython",
    "version": 3
   },
   "file_extension": ".py",
   "mimetype": "text/x-python",
   "name": "python",
   "nbconvert_exporter": "python",
   "pygments_lexer": "ipython3",
   "version": "3.8.8"
  },
  "toc": {
   "base_numbering": 1,
   "nav_menu": {},
   "number_sections": true,
   "sideBar": true,
   "skip_h1_title": false,
   "title_cell": "Table of Contents",
   "title_sidebar": "Contents",
   "toc_cell": false,
   "toc_position": {},
   "toc_section_display": true,
   "toc_window_display": false
  }
 },
 "nbformat": 4,
 "nbformat_minor": 5
}
