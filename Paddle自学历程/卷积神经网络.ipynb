{
 "cells": [
  {
   "cell_type": "code",
   "execution_count": null,
   "id": "0882204f",
   "metadata": {},
   "outputs": [],
   "source": []
  },
  {
   "cell_type": "markdown",
   "id": "651c776f",
   "metadata": {},
   "source": [
    "### 案例1——简单的黑白边界检测"
   ]
  },
  {
   "cell_type": "code",
   "execution_count": 4,
   "id": "52e40382",
   "metadata": {},
   "outputs": [],
   "source": [
    "import matplotlib.pyplot as plt\n",
    "import numpy as np\n",
    "import paddle\n",
    "from paddle.nn import Conv2D\n",
    "from paddle.nn.initializer import Assign\n",
    "import warnings\n",
    "warnings.filterwarnings(\"ignore\")\n",
    "%matplotlib inline"
   ]
  },
  {
   "cell_type": "code",
   "execution_count": null,
   "id": "4fc4af9c",
   "metadata": {},
   "outputs": [],
   "source": []
  },
  {
   "cell_type": "markdown",
   "id": "22b293b4",
   "metadata": {},
   "source": [
    "<font color=\"red\">**设置宽度方向的卷积核为[1,0,-1]，此卷机核会将宽度方向间隔为1的两个像素点数值相减**</font>"
   ]
  },
  {
   "cell_type": "code",
   "execution_count": 5,
   "id": "875ec63b",
   "metadata": {},
   "outputs": [],
   "source": [
    "# 创建初始化权重参数w\n",
    "w = np.array([1,0,-1],dtype='float32')\n",
    "# 将权重参数调整成维度为[cout,cin,kh,kw]的四维张量\n",
    "w = w.reshape([1,1,1,3])\n",
    "# 创建卷积算子，设置输出通道数，卷积核大小，和初始化权重参数\n",
    "# 创建卷积算子的时候，从 numpy.ndarray初始化卷积参数\n",
    "conv = Conv2D(in_channels=1,out_channels=1,kernel_size=[1,3],weight_attr=paddle.ParamAttr(\n",
    "    initializer=Assign(value=w)\n",
    "))\n"
   ]
  },
  {
   "cell_type": "code",
   "execution_count": 12,
   "id": "9e126c96",
   "metadata": {},
   "outputs": [
    {
     "data": {
      "text/plain": [
       "array([[[[ 1.,  0., -1.]]]], dtype=float32)"
      ]
     },
     "execution_count": 12,
     "metadata": {},
     "output_type": "execute_result"
    }
   ],
   "source": [
    "w"
   ]
  },
  {
   "cell_type": "code",
   "execution_count": 9,
   "id": "c85a0045",
   "metadata": {},
   "outputs": [
    {
     "data": {
      "image/png": "[encoded data removed]",
      "text/plain": [
       "<Figure size 432x288 with 2 Axes>"
      ]
     },
     "metadata": {
      "needs_background": "light"
     },
     "output_type": "display_data"
    }
   ],
   "source": [
    "# 穿件输入图片\n",
    "img = np.ones([50,50],dtype=\"float32\")\n",
    "img[:,30:] = 0.\n",
    "# 将图片调整为[N,C,H,W]的形式\n",
    "x = img.reshape([1,1,50,50])\n",
    "# 将numpy.ndarray转化为paddle中的tensor\n",
    "x = paddle.to_tensor(x)\n",
    "# 将卷积算子作用在图片上\n",
    "y = conv(x)\n",
    "# 将输出的tensor转化为numpy.ndarray\n",
    "out = y.numpy()\n",
    "f = plt.subplot(121)\n",
    "f.set_title('input image',fontsize=15)\n",
    "plt.imshow(img,cmap='gray')\n",
    "f = plt.subplot(122)\n",
    "f.set_title('output image',fontsize=15)\n",
    "plt.imshow(out.squeeze(),cmap=\"gray\")\n",
    "plt.show()"
   ]
  },
  {
   "cell_type": "code",
   "execution_count": 11,
   "id": "f6130310",
   "metadata": {},
   "outputs": [],
   "source": [
    "# out.squeeze()"
   ]
  }
 ],
 "metadata": {
  "kernelspec": {
   "display_name": "Python 3",
   "language": "python",
   "name": "python3"
  },
  "language_info": {
   "codemirror_mode": {
    "name": "ipython",
    "version": 3
   },
   "file_extension": ".py",
   "mimetype": "text/x-python",
   "name": "python",
   "nbconvert_exporter": "python",
   "pygments_lexer": "ipython3",
   "version": "3.8.8"
  },
  "toc": {
   "base_numbering": 1,
   "nav_menu": {},
   "number_sections": true,
   "sideBar": true,
   "skip_h1_title": false,
   "title_cell": "Table of Contents",
   "title_sidebar": "Contents",
   "toc_cell": false,
   "toc_position": {},
   "toc_section_display": true,
   "toc_window_display": false
  }
 },
 "nbformat": 4,
 "nbformat_minor": 5
}
